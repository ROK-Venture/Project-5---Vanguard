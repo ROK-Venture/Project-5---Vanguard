{
 "cells": [
  {
   "cell_type": "markdown",
   "id": "f7aa32f7",
   "metadata": {},
   "source": [
    "# Data Cleaning & Analysis Template\n",
    "This notebook provides a structured approach to data cleaning and preprocessing for both tabular and geospatial datasets."
   ]
  },
  {
   "cell_type": "code",
   "execution_count": 14,
   "id": "887e12ab",
   "metadata": {},
   "outputs": [],
   "source": [
    "import pandas as pd\n",
    "import numpy as np\n",
    "import geopandas as gpd\n",
    "import os\n",
    "import matplotlib.pyplot as plt\n",
    "import seaborn as sns\n",
    "from sklearn.preprocessing import StandardScaler\n",
    "\n"
   ]
  },
  {
   "cell_type": "markdown",
   "id": "6679e317",
   "metadata": {},
   "source": [
    "## 1. Load Data"
   ]
  },
  {
   "cell_type": "code",
   "execution_count": 15,
   "id": "6c899767",
   "metadata": {},
   "outputs": [],
   "source": [
    "# ----------------------\n",
    "# 1. Load Data\n",
    "# ----------------------\n",
    "DEFAULT_DATA_DIR = r\"C:\\Users\\manoe.MC_ASUS\\Documents\\IRON HACK BOOTCAMP\\DAFT_Feb 2025\\projects\\Project 5\\Project-5---Vanguard\\1.0 - data\\1.1 - raw\"\n",
    "\n",
    "def load_data(file_name):\n",
    "    \"\"\"Load a dataset from the default directory and return it as a DataFrame.\"\"\"\n",
    "    file_path = os.path.join(DEFAULT_DATA_DIR, file_name)\n",
    "    return pd.read_csv(file_path)\n",
    "\n",
    "\n"
   ]
  },
  {
   "cell_type": "code",
   "execution_count": 16,
   "id": "9ea5ed10",
   "metadata": {},
   "outputs": [
    {
     "name": "stdout",
     "output_type": "stream",
     "text": [
      "Datasets loaded and assigned to variables explicitly.\n"
     ]
    }
   ],
   "source": [
    "#2. Exemple Usage \n",
    "\n",
    "if __name__ == \"__main__\":\n",
    "    # Define datasets\n",
    "    datasets = {\n",
    "        \"df_final_demo\": \"df_final_demo.txt\",\n",
    "        \"df_final_experiment_clients\": \"df_final_experiment_clients.txt\",\n",
    "        \"df_final_web_data_pt_1\": \"df_final_web_data_pt_1.txt\",\n",
    "        \"df_final_web_data_pt_2\": \"df_final_web_data_pt_2.txt\"\n",
    "    }\n",
    "    \n",
    "    # Load datasets dynamically into separate variables and store them globally\n",
    "    globals()[\"df_final_demo\"] = load_data(datasets[\"df_final_demo\"])\n",
    "    globals()[\"df_final_experiment_clients\"] = load_data(datasets[\"df_final_experiment_clients\"])\n",
    "    globals()[\"df_final_web_data_pt_1\"] = load_data(datasets[\"df_final_web_data_pt_1\"])\n",
    "    globals()[\"df_final_web_data_pt_2\"] = load_data(datasets[\"df_final_web_data_pt_2\"])\n",
    "\n",
    "    print(\"Datasets loaded and assigned to variables explicitly.\")\n"
   ]
  },
  {
   "cell_type": "markdown",
   "id": "6ab0941e",
   "metadata": {},
   "source": [
    "## 2. Basic Inspection"
   ]
  },
  {
   "cell_type": "code",
   "execution_count": 17,
   "id": "1f59b5d5",
   "metadata": {},
   "outputs": [],
   "source": [
    "def inspect_data(df):\n",
    "    \"\"\"Prints basic inspection details of a DataFrame.\"\"\"\n",
    "    print(\"\\nDataset Info:\")\n",
    "    print(df.info())\n",
    "    print(\"\\nSummary Statistics:\")\n",
    "    print(df.describe(include='all'))\n",
    "    print(\"\\nMissing Values:\")\n",
    "    print(df.isnull().sum())\n",
    "    print(\"\\nFirst 5 Rows:\")\n",
    "    print(df.head())\n",
    "\n",
    "def inspect_all_data(dfs):\n",
    "    \"\"\"Inspect all datasets dynamically.\"\"\"\n",
    "    for df_name, df in dfs.items():\n",
    "        print(f\"\\n### Inspecting {df_name} ###\")\n",
    "        inspect_data(df)\n",
    "\n"
   ]
  },
  {
   "cell_type": "markdown",
   "id": "0dc4bd36",
   "metadata": {},
   "source": [
    "### PART 1 Analysing DF_FINAL_DEMO"
   ]
  },
  {
   "cell_type": "code",
   "execution_count": 18,
   "id": "06ab4245",
   "metadata": {},
   "outputs": [
    {
     "name": "stdout",
     "output_type": "stream",
     "text": [
      "\n",
      "Dataset Info:\n",
      "<class 'pandas.core.frame.DataFrame'>\n",
      "RangeIndex: 70609 entries, 0 to 70608\n",
      "Data columns (total 9 columns):\n",
      " #   Column            Non-Null Count  Dtype  \n",
      "---  ------            --------------  -----  \n",
      " 0   client_id         70609 non-null  int64  \n",
      " 1   clnt_tenure_yr    70595 non-null  float64\n",
      " 2   clnt_tenure_mnth  70595 non-null  float64\n",
      " 3   clnt_age          70594 non-null  float64\n",
      " 4   gendr             70595 non-null  object \n",
      " 5   num_accts         70595 non-null  float64\n",
      " 6   bal               70595 non-null  float64\n",
      " 7   calls_6_mnth      70595 non-null  float64\n",
      " 8   logons_6_mnth     70595 non-null  float64\n",
      "dtypes: float64(7), int64(1), object(1)\n",
      "memory usage: 4.8+ MB\n",
      "None\n",
      "\n",
      "Summary Statistics:\n",
      "           client_id  clnt_tenure_yr  clnt_tenure_mnth      clnt_age  gendr  \\\n",
      "count   7.060900e+04    70595.000000      70595.000000  70594.000000  70595   \n",
      "unique           NaN             NaN               NaN           NaN      4   \n",
      "top              NaN             NaN               NaN           NaN      U   \n",
      "freq             NaN             NaN               NaN           NaN  24122   \n",
      "mean    5.004992e+06       12.052950        150.659367     46.442240    NaN   \n",
      "std     2.877278e+06        6.871819         82.089854     15.591273    NaN   \n",
      "min     1.690000e+02        2.000000         33.000000     13.500000    NaN   \n",
      "25%     2.519329e+06        6.000000         82.000000     32.500000    NaN   \n",
      "50%     5.016978e+06       11.000000        136.000000     47.000000    NaN   \n",
      "75%     7.483085e+06       16.000000        192.000000     59.000000    NaN   \n",
      "max     9.999839e+06       62.000000        749.000000     96.000000    NaN   \n",
      "\n",
      "           num_accts           bal  calls_6_mnth  logons_6_mnth  \n",
      "count   70595.000000  7.059500e+04  70595.000000   70595.000000  \n",
      "unique           NaN           NaN           NaN            NaN  \n",
      "top              NaN           NaN           NaN            NaN  \n",
      "freq             NaN           NaN           NaN            NaN  \n",
      "mean        2.255528  1.474452e+05      3.382478       5.566740  \n",
      "std         0.534997  3.015087e+05      2.236580       2.353286  \n",
      "min         1.000000  1.378942e+04      0.000000       1.000000  \n",
      "25%         2.000000  3.734683e+04      1.000000       4.000000  \n",
      "50%         2.000000  6.333290e+04      3.000000       5.000000  \n",
      "75%         2.000000  1.375449e+05      6.000000       7.000000  \n",
      "max         8.000000  1.632004e+07      7.000000       9.000000  \n",
      "\n",
      "Missing Values:\n",
      "client_id            0\n",
      "clnt_tenure_yr      14\n",
      "clnt_tenure_mnth    14\n",
      "clnt_age            15\n",
      "gendr               14\n",
      "num_accts           14\n",
      "bal                 14\n",
      "calls_6_mnth        14\n",
      "logons_6_mnth       14\n",
      "dtype: int64\n",
      "\n",
      "First 5 Rows:\n",
      "   client_id  clnt_tenure_yr  clnt_tenure_mnth  clnt_age gendr  num_accts  \\\n",
      "0     836976             6.0              73.0      60.5     U        2.0   \n",
      "1    2304905             7.0              94.0      58.0     U        2.0   \n",
      "2    1439522             5.0              64.0      32.0     U        2.0   \n",
      "3    1562045            16.0             198.0      49.0     M        2.0   \n",
      "4    5126305            12.0             145.0      33.0     F        2.0   \n",
      "\n",
      "         bal  calls_6_mnth  logons_6_mnth  \n",
      "0   45105.30           6.0            9.0  \n",
      "1  110860.30           6.0            9.0  \n",
      "2   52467.79           6.0            9.0  \n",
      "3   67454.65           3.0            6.0  \n",
      "4  103671.75           0.0            3.0  \n"
     ]
    }
   ],
   "source": [
    "inspect_data(df_final_demo)\n",
    "\n",
    "\n",
    "#missing values: ~15 in each column compared to client_id"
   ]
  },
  {
   "cell_type": "code",
   "execution_count": 19,
   "id": "f2f03219",
   "metadata": {},
   "outputs": [
    {
     "data": {
      "text/html": [
       "<div>\n",
       "<style scoped>\n",
       "    .dataframe tbody tr th:only-of-type {\n",
       "        vertical-align: middle;\n",
       "    }\n",
       "\n",
       "    .dataframe tbody tr th {\n",
       "        vertical-align: top;\n",
       "    }\n",
       "\n",
       "    .dataframe thead th {\n",
       "        text-align: right;\n",
       "    }\n",
       "</style>\n",
       "<table border=\"1\" class=\"dataframe\">\n",
       "  <thead>\n",
       "    <tr style=\"text-align: right;\">\n",
       "      <th></th>\n",
       "      <th>client_id</th>\n",
       "      <th>clnt_tenure_yr</th>\n",
       "      <th>clnt_tenure_mnth</th>\n",
       "      <th>clnt_age</th>\n",
       "      <th>num_accts</th>\n",
       "      <th>bal</th>\n",
       "      <th>calls_6_mnth</th>\n",
       "      <th>logons_6_mnth</th>\n",
       "    </tr>\n",
       "  </thead>\n",
       "  <tbody>\n",
       "    <tr>\n",
       "      <th>count</th>\n",
       "      <td>70609.0</td>\n",
       "      <td>70595.0</td>\n",
       "      <td>70595.0</td>\n",
       "      <td>70594.0</td>\n",
       "      <td>70595.0</td>\n",
       "      <td>70595.0</td>\n",
       "      <td>70595.0</td>\n",
       "      <td>70595.0</td>\n",
       "    </tr>\n",
       "    <tr>\n",
       "      <th>mean</th>\n",
       "      <td>5004992.0</td>\n",
       "      <td>12.0</td>\n",
       "      <td>151.0</td>\n",
       "      <td>46.0</td>\n",
       "      <td>2.0</td>\n",
       "      <td>147445.0</td>\n",
       "      <td>3.0</td>\n",
       "      <td>6.0</td>\n",
       "    </tr>\n",
       "    <tr>\n",
       "      <th>std</th>\n",
       "      <td>2877278.0</td>\n",
       "      <td>7.0</td>\n",
       "      <td>82.0</td>\n",
       "      <td>16.0</td>\n",
       "      <td>1.0</td>\n",
       "      <td>301509.0</td>\n",
       "      <td>2.0</td>\n",
       "      <td>2.0</td>\n",
       "    </tr>\n",
       "    <tr>\n",
       "      <th>min</th>\n",
       "      <td>169.0</td>\n",
       "      <td>2.0</td>\n",
       "      <td>33.0</td>\n",
       "      <td>14.0</td>\n",
       "      <td>1.0</td>\n",
       "      <td>13789.0</td>\n",
       "      <td>0.0</td>\n",
       "      <td>1.0</td>\n",
       "    </tr>\n",
       "    <tr>\n",
       "      <th>25%</th>\n",
       "      <td>2519329.0</td>\n",
       "      <td>6.0</td>\n",
       "      <td>82.0</td>\n",
       "      <td>32.0</td>\n",
       "      <td>2.0</td>\n",
       "      <td>37347.0</td>\n",
       "      <td>1.0</td>\n",
       "      <td>4.0</td>\n",
       "    </tr>\n",
       "    <tr>\n",
       "      <th>50%</th>\n",
       "      <td>5016978.0</td>\n",
       "      <td>11.0</td>\n",
       "      <td>136.0</td>\n",
       "      <td>47.0</td>\n",
       "      <td>2.0</td>\n",
       "      <td>63333.0</td>\n",
       "      <td>3.0</td>\n",
       "      <td>5.0</td>\n",
       "    </tr>\n",
       "    <tr>\n",
       "      <th>75%</th>\n",
       "      <td>7483085.0</td>\n",
       "      <td>16.0</td>\n",
       "      <td>192.0</td>\n",
       "      <td>59.0</td>\n",
       "      <td>2.0</td>\n",
       "      <td>137545.0</td>\n",
       "      <td>6.0</td>\n",
       "      <td>7.0</td>\n",
       "    </tr>\n",
       "    <tr>\n",
       "      <th>max</th>\n",
       "      <td>9999839.0</td>\n",
       "      <td>62.0</td>\n",
       "      <td>749.0</td>\n",
       "      <td>96.0</td>\n",
       "      <td>8.0</td>\n",
       "      <td>16320040.0</td>\n",
       "      <td>7.0</td>\n",
       "      <td>9.0</td>\n",
       "    </tr>\n",
       "  </tbody>\n",
       "</table>\n",
       "</div>"
      ],
      "text/plain": [
       "       client_id  clnt_tenure_yr  clnt_tenure_mnth  clnt_age  num_accts  \\\n",
       "count    70609.0         70595.0           70595.0   70594.0    70595.0   \n",
       "mean   5004992.0            12.0             151.0      46.0        2.0   \n",
       "std    2877278.0             7.0              82.0      16.0        1.0   \n",
       "min        169.0             2.0              33.0      14.0        1.0   \n",
       "25%    2519329.0             6.0              82.0      32.0        2.0   \n",
       "50%    5016978.0            11.0             136.0      47.0        2.0   \n",
       "75%    7483085.0            16.0             192.0      59.0        2.0   \n",
       "max    9999839.0            62.0             749.0      96.0        8.0   \n",
       "\n",
       "              bal  calls_6_mnth  logons_6_mnth  \n",
       "count     70595.0       70595.0        70595.0  \n",
       "mean     147445.0           3.0            6.0  \n",
       "std      301509.0           2.0            2.0  \n",
       "min       13789.0           0.0            1.0  \n",
       "25%       37347.0           1.0            4.0  \n",
       "50%       63333.0           3.0            5.0  \n",
       "75%      137545.0           6.0            7.0  \n",
       "max    16320040.0           7.0            9.0  "
      ]
     },
     "execution_count": 19,
     "metadata": {},
     "output_type": "execute_result"
    }
   ],
   "source": [
    "df_final_demo.describe().round()"
   ]
  },
  {
   "cell_type": "code",
   "execution_count": 20,
   "id": "16ec8cea",
   "metadata": {},
   "outputs": [],
   "source": [
    "df_final_demo[\"clnt_age\"] = pd.to_numeric(df_final_demo[\"clnt_age\"], errors=\"coerce\")\n"
   ]
  },
  {
   "cell_type": "markdown",
   "id": "d32a841e",
   "metadata": {},
   "source": [
    "## 1.1 Grouping BY AGE"
   ]
  },
  {
   "cell_type": "code",
   "execution_count": 21,
   "id": "05c21684",
   "metadata": {},
   "outputs": [],
   "source": [
    "def categorize_age(age):\n",
    "    if 10 <= age <= 20:\n",
    "        return \"10-20\"\n",
    "    elif 21 <= age <= 30:\n",
    "        return \"21-30\"\n",
    "    elif 31 <= age <= 40:\n",
    "        return \"31-40\"\n",
    "    elif 41 <= age <= 50:\n",
    "        return \"41-50\"\n",
    "    elif 51 <= age <= 60:\n",
    "        return \"51-60\"\n",
    "    elif 61 <= age <= 70:\n",
    "        return \"61-70\"\n",
    "    elif 71 <= age <= 80:\n",
    "        return \"71-80\"\n",
    "    elif 81 <= age <= 90:\n",
    "        return \"81-90\"\n",
    "    else:\n",
    "        return \"91-100\"\n",
    "\n",
    "    \n",
    "df_final_demo[\"age_group\"] = df_final_demo[\"clnt_age\"].apply(categorize_age)"
   ]
  },
  {
   "cell_type": "code",
   "execution_count": 22,
   "id": "29d16057",
   "metadata": {},
   "outputs": [
    {
     "data": {
      "image/png": "[encoded data removed]",
      "text/plain": [
       "<Figure size 1000x600 with 1 Axes>"
      ]
     },
     "metadata": {},
     "output_type": "display_data"
    }
   ],
   "source": [
    "import matplotlib.pyplot as plt\n",
    "\n",
    "age_group_counts = df_final_demo.groupby(\"age_group\")[\"client_id\"].nunique().sort_index()\n",
    "\n",
    "\n",
    "plt.figure(figsize=(10, 6))\n",
    "plt.bar(age_group_counts.index, age_group_counts.values, color='skyblue', edgecolor='black')\n",
    "plt.xlabel(\"Age Groups\")\n",
    "plt.ylabel(\"Number of Users (Unique Client IDs)\")\n",
    "plt.title(\"Users per Age Group\")\n",
    "plt.xticks(rotation=45)\n",
    "plt.grid(axis=\"y\", linestyle=\"--\", alpha=0.7) \n",
    "plt.show()\n",
    "\n"
   ]
  },
  {
   "cell_type": "code",
   "execution_count": 23,
   "id": "d31567e8",
   "metadata": {},
   "outputs": [
    {
     "data": {
      "image/png": "[encoded data removed]",
      "text/plain": [
       "<Figure size 1000x600 with 1 Axes>"
      ]
     },
     "metadata": {},
     "output_type": "display_data"
    }
   ],
   "source": [
    "import matplotlib.pyplot as plt\n",
    "\n",
    "# Aggregate balance per age group (sum, mean, or median)\n",
    "age_group_balances = df_final_demo.groupby(\"age_group\")[\"bal\"].mean() \n",
    "# Plot\n",
    "plt.figure(figsize=(10, 6))\n",
    "plt.bar(age_group_balances.index, age_group_balances.values, color='skyblue', edgecolor='black')\n",
    "\n",
    "# Labels and title\n",
    "plt.xlabel(\"Age Groups\")\n",
    "plt.ylabel(\"Average Balance ($) in the Account\")\n",
    "plt.title(\"Average Balance per Age Group\")\n",
    "plt.xticks(rotation=45)\n",
    "plt.grid(axis=\"y\", linestyle=\"--\", alpha=0.7)\n",
    "\n",
    "# Show plot\n",
    "plt.show()\n",
    "\n"
   ]
  },
  {
   "cell_type": "markdown",
   "id": "a2d08ed5",
   "metadata": {},
   "source": [
    "## 1.2 UNIVARIATE ANALYSIS - BALANCE"
   ]
  },
  {
   "cell_type": "code",
   "execution_count": 24,
   "id": "b23bf030",
   "metadata": {},
   "outputs": [
    {
     "data": {
      "text/html": [
       "<div>\n",
       "<style scoped>\n",
       "    .dataframe tbody tr th:only-of-type {\n",
       "        vertical-align: middle;\n",
       "    }\n",
       "\n",
       "    .dataframe tbody tr th {\n",
       "        vertical-align: top;\n",
       "    }\n",
       "\n",
       "    .dataframe thead th {\n",
       "        text-align: right;\n",
       "    }\n",
       "</style>\n",
       "<table border=\"1\" class=\"dataframe\">\n",
       "  <thead>\n",
       "    <tr style=\"text-align: right;\">\n",
       "      <th></th>\n",
       "      <th>client_id</th>\n",
       "      <th>clnt_tenure_yr</th>\n",
       "      <th>clnt_tenure_mnth</th>\n",
       "      <th>clnt_age</th>\n",
       "      <th>gendr</th>\n",
       "      <th>num_accts</th>\n",
       "      <th>bal</th>\n",
       "      <th>calls_6_mnth</th>\n",
       "      <th>logons_6_mnth</th>\n",
       "      <th>age_group</th>\n",
       "    </tr>\n",
       "  </thead>\n",
       "  <tbody>\n",
       "    <tr>\n",
       "      <th>0</th>\n",
       "      <td>836976</td>\n",
       "      <td>6.0</td>\n",
       "      <td>73.0</td>\n",
       "      <td>60.5</td>\n",
       "      <td>U</td>\n",
       "      <td>2.0</td>\n",
       "      <td>45106.0</td>\n",
       "      <td>6.0</td>\n",
       "      <td>9.0</td>\n",
       "      <td>91-100</td>\n",
       "    </tr>\n",
       "    <tr>\n",
       "      <th>1</th>\n",
       "      <td>2304905</td>\n",
       "      <td>7.0</td>\n",
       "      <td>94.0</td>\n",
       "      <td>58.0</td>\n",
       "      <td>U</td>\n",
       "      <td>2.0</td>\n",
       "      <td>110861.0</td>\n",
       "      <td>6.0</td>\n",
       "      <td>9.0</td>\n",
       "      <td>51-60</td>\n",
       "    </tr>\n",
       "    <tr>\n",
       "      <th>2</th>\n",
       "      <td>1439522</td>\n",
       "      <td>5.0</td>\n",
       "      <td>64.0</td>\n",
       "      <td>32.0</td>\n",
       "      <td>U</td>\n",
       "      <td>2.0</td>\n",
       "      <td>52468.0</td>\n",
       "      <td>6.0</td>\n",
       "      <td>9.0</td>\n",
       "      <td>31-40</td>\n",
       "    </tr>\n",
       "    <tr>\n",
       "      <th>3</th>\n",
       "      <td>1562045</td>\n",
       "      <td>16.0</td>\n",
       "      <td>198.0</td>\n",
       "      <td>49.0</td>\n",
       "      <td>M</td>\n",
       "      <td>2.0</td>\n",
       "      <td>67455.0</td>\n",
       "      <td>3.0</td>\n",
       "      <td>6.0</td>\n",
       "      <td>41-50</td>\n",
       "    </tr>\n",
       "    <tr>\n",
       "      <th>4</th>\n",
       "      <td>5126305</td>\n",
       "      <td>12.0</td>\n",
       "      <td>145.0</td>\n",
       "      <td>33.0</td>\n",
       "      <td>F</td>\n",
       "      <td>2.0</td>\n",
       "      <td>103672.0</td>\n",
       "      <td>0.0</td>\n",
       "      <td>3.0</td>\n",
       "      <td>31-40</td>\n",
       "    </tr>\n",
       "    <tr>\n",
       "      <th>5</th>\n",
       "      <td>3727881</td>\n",
       "      <td>5.0</td>\n",
       "      <td>71.0</td>\n",
       "      <td>30.5</td>\n",
       "      <td>U</td>\n",
       "      <td>2.0</td>\n",
       "      <td>23916.0</td>\n",
       "      <td>0.0</td>\n",
       "      <td>3.0</td>\n",
       "      <td>91-100</td>\n",
       "    </tr>\n",
       "    <tr>\n",
       "      <th>6</th>\n",
       "      <td>272934</td>\n",
       "      <td>5.0</td>\n",
       "      <td>66.0</td>\n",
       "      <td>58.5</td>\n",
       "      <td>U</td>\n",
       "      <td>2.0</td>\n",
       "      <td>27022.0</td>\n",
       "      <td>2.0</td>\n",
       "      <td>5.0</td>\n",
       "      <td>51-60</td>\n",
       "    </tr>\n",
       "    <tr>\n",
       "      <th>7</th>\n",
       "      <td>388801</td>\n",
       "      <td>30.0</td>\n",
       "      <td>361.0</td>\n",
       "      <td>57.5</td>\n",
       "      <td>M</td>\n",
       "      <td>5.0</td>\n",
       "      <td>522499.0</td>\n",
       "      <td>1.0</td>\n",
       "      <td>4.0</td>\n",
       "      <td>51-60</td>\n",
       "    </tr>\n",
       "    <tr>\n",
       "      <th>8</th>\n",
       "      <td>285619</td>\n",
       "      <td>30.0</td>\n",
       "      <td>369.0</td>\n",
       "      <td>67.5</td>\n",
       "      <td>M</td>\n",
       "      <td>2.0</td>\n",
       "      <td>299389.0</td>\n",
       "      <td>3.0</td>\n",
       "      <td>6.0</td>\n",
       "      <td>61-70</td>\n",
       "    </tr>\n",
       "    <tr>\n",
       "      <th>9</th>\n",
       "      <td>8198645</td>\n",
       "      <td>15.0</td>\n",
       "      <td>189.0</td>\n",
       "      <td>54.5</td>\n",
       "      <td>F</td>\n",
       "      <td>2.0</td>\n",
       "      <td>382304.0</td>\n",
       "      <td>6.0</td>\n",
       "      <td>9.0</td>\n",
       "      <td>51-60</td>\n",
       "    </tr>\n",
       "  </tbody>\n",
       "</table>\n",
       "</div>"
      ],
      "text/plain": [
       "   client_id  clnt_tenure_yr  clnt_tenure_mnth  clnt_age gendr  num_accts  \\\n",
       "0     836976             6.0              73.0      60.5     U        2.0   \n",
       "1    2304905             7.0              94.0      58.0     U        2.0   \n",
       "2    1439522             5.0              64.0      32.0     U        2.0   \n",
       "3    1562045            16.0             198.0      49.0     M        2.0   \n",
       "4    5126305            12.0             145.0      33.0     F        2.0   \n",
       "5    3727881             5.0              71.0      30.5     U        2.0   \n",
       "6     272934             5.0              66.0      58.5     U        2.0   \n",
       "7     388801            30.0             361.0      57.5     M        5.0   \n",
       "8     285619            30.0             369.0      67.5     M        2.0   \n",
       "9    8198645            15.0             189.0      54.5     F        2.0   \n",
       "\n",
       "        bal  calls_6_mnth  logons_6_mnth age_group  \n",
       "0   45106.0           6.0            9.0    91-100  \n",
       "1  110861.0           6.0            9.0     51-60  \n",
       "2   52468.0           6.0            9.0     31-40  \n",
       "3   67455.0           3.0            6.0     41-50  \n",
       "4  103672.0           0.0            3.0     31-40  \n",
       "5   23916.0           0.0            3.0    91-100  \n",
       "6   27022.0           2.0            5.0     51-60  \n",
       "7  522499.0           1.0            4.0     51-60  \n",
       "8  299389.0           3.0            6.0     61-70  \n",
       "9  382304.0           6.0            9.0     51-60  "
      ]
     },
     "execution_count": 24,
     "metadata": {},
     "output_type": "execute_result"
    }
   ],
   "source": [
    "df_final_demo['bal'] = np.ceil(df_final_demo['bal'])\n",
    "df_final_demo.head(10)"
   ]
  },
  {
   "cell_type": "code",
   "execution_count": 25,
   "id": "8146a17b",
   "metadata": {},
   "outputs": [
    {
     "name": "stdout",
     "output_type": "stream",
     "text": [
      "          bal  Deviation from Lower Bound  Deviation from Upper Bound\n",
      "7    522499.0                    635448.5                   -234656.5\n",
      "8    299389.0                    412338.5                    -11546.5\n",
      "9    382304.0                    495253.5                    -94461.5\n",
      "21  2768727.0                   2881676.5                  -2480884.5\n",
      "37   439724.0                    552673.5                   -151881.5\n"
     ]
    }
   ],
   "source": [
    "data = df_final_demo['bal'] \n",
    "\n",
    "# Calculate IQR\n",
    "Q1 = data.quantile(0.25)\n",
    "Q3 = data.quantile(0.75)\n",
    "IQR = Q3 - Q1\n",
    "\n",
    "\n",
    "lower_bound = Q1 - 1.5 * IQR\n",
    "upper_bound = Q3 + 1.5 * IQR\n",
    "\n",
    "\n",
    "outliers = df_final_demo[(data < lower_bound) | (data > upper_bound)].round(2).copy()\n",
    "outliers[\"Deviation from Lower Bound\"] = outliers['bal'] - lower_bound\n",
    "outliers[\"Deviation from Upper Bound\"] = upper_bound - outliers['bal']\n",
    "\n",
    "\n",
    "print(outliers[['bal', \"Deviation from Lower Bound\", \"Deviation from Upper Bound\"]].head())\n"
   ]
  },
  {
   "cell_type": "code",
   "execution_count": 26,
   "id": "99e1382b",
   "metadata": {},
   "outputs": [
    {
     "data": {
      "image/png": "[encoded data removed]",
      "text/plain": [
       "<Figure size 2000x1000 with 1 Axes>"
      ]
     },
     "metadata": {},
     "output_type": "display_data"
    }
   ],
   "source": [
    "import matplotlib.ticker as ticker\n",
    "\n",
    "plt.figure(figsize=(20, 10))\n",
    "sns.boxplot(x=df_final_demo['bal'], color=\"lightblue\")\n",
    "\n",
    "# Format x-axis to display as financial values\n",
    "plt.gca().xaxis.set_major_formatter(ticker.FuncFormatter(lambda x, _: f\"{x:,.2f}\"))\n",
    "plt.title(\"Balance Overview\")\n",
    "plt.xlabel(\"Balance (€)\")\n",
    "plt.show()\n"
   ]
  },
  {
   "cell_type": "code",
   "execution_count": 32,
   "id": "680da858",
   "metadata": {},
   "outputs": [
    {
     "data": {
      "image/png": "[encoded data removed]",
      "text/plain": [
       "<Figure size 1000x500 with 1 Axes>"
      ]
     },
     "metadata": {},
     "output_type": "display_data"
    }
   ],
   "source": [
    "plt.figure(figsize=(10, 5))\n",
    "sns.boxplot(x=df_final_demo['bal'], color=\"lightblue\")\n",
    "plt.xscale(\"log\")\n",
    "\n",
    "# Format x-axis\n",
    "plt.gca().xaxis.set_major_formatter(ticker.FuncFormatter(lambda x, _: f\"{x:,.2f}\"))\n",
    "plt.title(\"Boxplot with Log Scale\")\n",
    "plt.xlabel(\"Balance (€)\")\n",
    "plt.show()\n"
   ]
  },
  {
   "cell_type": "markdown",
   "id": "f9887eea",
   "metadata": {},
   "source": [
    "### PART 2: ANALYSIS df_final_experiment_clients"
   ]
  },
  {
   "cell_type": "code",
   "execution_count": 14,
   "id": "e70084ae",
   "metadata": {},
   "outputs": [
    {
     "name": "stdout",
     "output_type": "stream",
     "text": [
      "\n",
      "Dataset Info:\n",
      "<class 'pandas.core.frame.DataFrame'>\n",
      "RangeIndex: 70609 entries, 0 to 70608\n",
      "Data columns (total 2 columns):\n",
      " #   Column     Non-Null Count  Dtype \n",
      "---  ------     --------------  ----- \n",
      " 0   client_id  70609 non-null  int64 \n",
      " 1   Variation  50500 non-null  object\n",
      "dtypes: int64(1), object(1)\n",
      "memory usage: 1.1+ MB\n",
      "None\n",
      "\n",
      "Summary Statistics:\n",
      "           client_id Variation\n",
      "count   7.060900e+04     50500\n",
      "unique           NaN         2\n",
      "top              NaN      Test\n",
      "freq             NaN     26968\n",
      "mean    5.004992e+06       NaN\n",
      "std     2.877278e+06       NaN\n",
      "min     1.690000e+02       NaN\n",
      "25%     2.519329e+06       NaN\n",
      "50%     5.016978e+06       NaN\n",
      "75%     7.483085e+06       NaN\n",
      "max     9.999839e+06       NaN\n",
      "\n",
      "Missing Values:\n",
      "client_id        0\n",
      "Variation    20109\n",
      "dtype: int64\n",
      "\n",
      "First 5 Rows:\n",
      "   client_id Variation\n",
      "0    9988021      Test\n",
      "1    8320017      Test\n",
      "2    4033851   Control\n",
      "3    1982004      Test\n",
      "4    9294070   Control\n"
     ]
    }
   ],
   "source": [
    "inspect_data(df_final_experiment_clients)\n"
   ]
  },
  {
   "cell_type": "code",
   "execution_count": 15,
   "id": "cd607c3f",
   "metadata": {},
   "outputs": [
    {
     "name": "stdout",
     "output_type": "stream",
     "text": [
      "\n",
      "Dataset Info:\n",
      "<class 'pandas.core.frame.DataFrame'>\n",
      "RangeIndex: 343141 entries, 0 to 343140\n",
      "Data columns (total 5 columns):\n",
      " #   Column        Non-Null Count   Dtype \n",
      "---  ------        --------------   ----- \n",
      " 0   client_id     343141 non-null  int64 \n",
      " 1   visitor_id    343141 non-null  object\n",
      " 2   visit_id      343141 non-null  object\n",
      " 3   process_step  343141 non-null  object\n",
      " 4   date_time     343141 non-null  object\n",
      "dtypes: int64(1), object(4)\n",
      "memory usage: 13.1+ MB\n",
      "None\n",
      "\n",
      "Summary Statistics:\n",
      "           client_id             visitor_id                     visit_id  \\\n",
      "count   3.431410e+05                 343141                       343141   \n",
      "unique           NaN                  62936                        75256   \n",
      "top              NaN  699275239_82397698587  712824876_8175482950_365042   \n",
      "freq             NaN                     66                           61   \n",
      "mean    4.996097e+06                    NaN                          NaN   \n",
      "std     2.875839e+06                    NaN                          NaN   \n",
      "min     1.690000e+02                    NaN                          NaN   \n",
      "25%     2.506067e+06                    NaN                          NaN   \n",
      "50%     5.007915e+06                    NaN                          NaN   \n",
      "75%     7.468519e+06                    NaN                          NaN   \n",
      "max     9.999839e+06                    NaN                          NaN   \n",
      "\n",
      "       process_step            date_time  \n",
      "count        343141               343141  \n",
      "unique            5               282666  \n",
      "top           start  2017-03-29 11:24:54  \n",
      "freq         108910                   14  \n",
      "mean            NaN                  NaN  \n",
      "std             NaN                  NaN  \n",
      "min             NaN                  NaN  \n",
      "25%             NaN                  NaN  \n",
      "50%             NaN                  NaN  \n",
      "75%             NaN                  NaN  \n",
      "max             NaN                  NaN  \n",
      "\n",
      "Missing Values:\n",
      "client_id       0\n",
      "visitor_id      0\n",
      "visit_id        0\n",
      "process_step    0\n",
      "date_time       0\n",
      "dtype: int64\n",
      "\n",
      "First 5 Rows:\n",
      "   client_id            visitor_id                      visit_id process_step  \\\n",
      "0    9988021  580560515_7732621733  781255054_21935453173_531117       step_3   \n",
      "1    9988021  580560515_7732621733  781255054_21935453173_531117       step_2   \n",
      "2    9988021  580560515_7732621733  781255054_21935453173_531117       step_3   \n",
      "3    9988021  580560515_7732621733  781255054_21935453173_531117       step_2   \n",
      "4    9988021  580560515_7732621733  781255054_21935453173_531117       step_3   \n",
      "\n",
      "             date_time  \n",
      "0  2017-04-17 15:27:07  \n",
      "1  2017-04-17 15:26:51  \n",
      "2  2017-04-17 15:19:22  \n",
      "3  2017-04-17 15:19:13  \n",
      "4  2017-04-17 15:18:04  \n"
     ]
    }
   ],
   "source": [
    "inspect_data(df_final_web_data_pt_1)\n"
   ]
  },
  {
   "cell_type": "code",
   "execution_count": 16,
   "id": "fdb9a94c",
   "metadata": {},
   "outputs": [
    {
     "name": "stdout",
     "output_type": "stream",
     "text": [
      "\n",
      "Dataset Info:\n",
      "<class 'pandas.core.frame.DataFrame'>\n",
      "RangeIndex: 412264 entries, 0 to 412263\n",
      "Data columns (total 5 columns):\n",
      " #   Column        Non-Null Count   Dtype \n",
      "---  ------        --------------   ----- \n",
      " 0   client_id     412264 non-null  int64 \n",
      " 1   visitor_id    412264 non-null  object\n",
      " 2   visit_id      412264 non-null  object\n",
      " 3   process_step  412264 non-null  object\n",
      " 4   date_time     412264 non-null  object\n",
      "dtypes: int64(1), object(4)\n",
      "memory usage: 15.7+ MB\n",
      "None\n",
      "\n",
      "Summary Statistics:\n",
      "           client_id            visitor_id                      visit_id  \\\n",
      "count   4.122640e+05                412264                        412264   \n",
      "unique           NaN                 71042                         82841   \n",
      "top              NaN  722943003_3441581446  875138661_34710212496_881092   \n",
      "freq             NaN                   104                           104   \n",
      "mean    5.028227e+06                   NaN                           NaN   \n",
      "std     2.881828e+06                   NaN                           NaN   \n",
      "min     3.360000e+02                   NaN                           NaN   \n",
      "25%     2.533952e+06                   NaN                           NaN   \n",
      "50%     5.056314e+06                   NaN                           NaN   \n",
      "75%     7.516792e+06                   NaN                           NaN   \n",
      "max     9.999875e+06                   NaN                           NaN   \n",
      "\n",
      "       process_step            date_time  \n",
      "count        412264               412264  \n",
      "unique            5               346697  \n",
      "top           start  2017-05-02 10:53:01  \n",
      "freq         135035                   24  \n",
      "mean            NaN                  NaN  \n",
      "std             NaN                  NaN  \n",
      "min             NaN                  NaN  \n",
      "25%             NaN                  NaN  \n",
      "50%             NaN                  NaN  \n",
      "75%             NaN                  NaN  \n",
      "max             NaN                  NaN  \n",
      "\n",
      "Missing Values:\n",
      "client_id       0\n",
      "visitor_id      0\n",
      "visit_id        0\n",
      "process_step    0\n",
      "date_time       0\n",
      "dtype: int64\n",
      "\n",
      "First 5 Rows:\n",
      "   client_id             visitor_id                      visit_id  \\\n",
      "0     763412  601952081_10457207388  397475557_40440946728_419634   \n",
      "1    6019349  442094451_91531546617  154620534_35331068705_522317   \n",
      "2    6019349  442094451_91531546617  154620534_35331068705_522317   \n",
      "3    6019349  442094451_91531546617  154620534_35331068705_522317   \n",
      "4    6019349  442094451_91531546617  154620534_35331068705_522317   \n",
      "\n",
      "  process_step            date_time  \n",
      "0      confirm  2017-06-06 08:56:00  \n",
      "1      confirm  2017-06-01 11:59:27  \n",
      "2       step_3  2017-06-01 11:58:48  \n",
      "3       step_2  2017-06-01 11:58:08  \n",
      "4       step_1  2017-06-01 11:57:58  \n"
     ]
    }
   ],
   "source": [
    "inspect_data(df_final_web_data_pt_2)"
   ]
  },
  {
   "cell_type": "markdown",
   "id": "0c2a942a",
   "metadata": {},
   "source": [
    "## 3. Handle Missing Values"
   ]
  },
  {
   "cell_type": "code",
   "execution_count": 17,
   "id": "b4e7ff32",
   "metadata": {},
   "outputs": [],
   "source": [
    "def handle_missing_values(df, method='ffill'):\n",
    "    if method == 'drop':\n",
    "        return df.dropna()\n",
    "    return df.fillna(method=method)"
   ]
  },
  {
   "cell_type": "markdown",
   "id": "bcc487c0",
   "metadata": {},
   "source": [
    "## 4. Handle Duplicates"
   ]
  },
  {
   "cell_type": "code",
   "execution_count": 18,
   "id": "f18b87f4",
   "metadata": {},
   "outputs": [],
   "source": [
    "def remove_duplicates(df):\n",
    "    return df.drop_duplicates()"
   ]
  },
  {
   "cell_type": "markdown",
   "id": "256b8216",
   "metadata": {},
   "source": [
    "## 5. Data Type Conversion"
   ]
  },
  {
   "cell_type": "code",
   "execution_count": 19,
   "id": "1928467e",
   "metadata": {},
   "outputs": [],
   "source": [
    "def convert_data_types(df, date_columns=None, category_columns=None):\n",
    "    if date_columns:\n",
    "        for col in date_columns:\n",
    "            df[col] = pd.to_datetime(df[col])\n",
    "    if category_columns:\n",
    "        for col in category_columns:\n",
    "            df[col] = df[col].astype('category')\n",
    "    return df"
   ]
  },
  {
   "cell_type": "markdown",
   "id": "332c4412",
   "metadata": {},
   "source": [
    "## 6. Detect Outliers"
   ]
  },
  {
   "cell_type": "code",
   "execution_count": 20,
   "id": "a234cf41",
   "metadata": {},
   "outputs": [],
   "source": [
    "def detect_outliers(df, column):\n",
    "    plt.figure(figsize=(8, 4))\n",
    "    sns.boxplot(x=df[column])\n",
    "    plt.title(f'Outlier Detection - {column}')\n",
    "    plt.show()"
   ]
  },
  {
   "cell_type": "markdown",
   "id": "9480a4b0",
   "metadata": {},
   "source": [
    "## 7. Feature Engineering"
   ]
  },
  {
   "cell_type": "code",
   "execution_count": 21,
   "id": "86637f97",
   "metadata": {},
   "outputs": [],
   "source": [
    "def create_features(df):\n",
    "    if 'column1' in df.columns and 'column2' in df.columns:\n",
    "        df['new_feature'] = df['column1'] / (df['column2'] + 1e-9)  # Avoid division by zero\n",
    "    return df"
   ]
  },
  {
   "cell_type": "markdown",
   "id": "c6a4cdcf",
   "metadata": {},
   "source": [
    "## 8. Normalize/Scale Data"
   ]
  },
  {
   "cell_type": "code",
   "execution_count": 22,
   "id": "6878f93a",
   "metadata": {},
   "outputs": [],
   "source": [
    "def normalize_data(df, columns):\n",
    "    scaler = StandardScaler()\n",
    "    df[columns] = scaler.fit_transform(df[columns])\n",
    "    return df"
   ]
  },
  {
   "cell_type": "markdown",
   "id": "bcddfe09",
   "metadata": {},
   "source": [
    "## 9. Save Cleaned Data"
   ]
  },
  {
   "cell_type": "code",
   "execution_count": 23,
   "id": "1953cad4",
   "metadata": {},
   "outputs": [],
   "source": [
    "def save_data(df, file_path, is_geospatial=False):\n",
    "    if is_geospatial:\n",
    "        df.to_file(file_path, driver='GeoJSON')\n",
    "    else:\n",
    "        df.to_csv(file_path, index=False)"
   ]
  },
  {
   "cell_type": "markdown",
   "id": "f58e7798",
   "metadata": {},
   "source": [
    "## Example Usage"
   ]
  },
  {
   "cell_type": "code",
   "execution_count": 24,
   "id": "38819a68",
   "metadata": {},
   "outputs": [
    {
     "ename": "TypeError",
     "evalue": "load_data() takes 1 positional argument but 2 were given",
     "output_type": "error",
     "traceback": [
      "\u001b[1;31m---------------------------------------------------------------------------\u001b[0m",
      "\u001b[1;31mTypeError\u001b[0m                                 Traceback (most recent call last)",
      "Cell \u001b[1;32mIn[24], line 5\u001b[0m\n\u001b[0;32m      2\u001b[0m file_path \u001b[38;5;241m=\u001b[39m \u001b[38;5;124m\"\u001b[39m\u001b[38;5;124myour_dataset.csv\u001b[39m\u001b[38;5;124m\"\u001b[39m\n\u001b[0;32m      3\u001b[0m is_geospatial \u001b[38;5;241m=\u001b[39m \u001b[38;5;28;01mFalse\u001b[39;00m\n\u001b[1;32m----> 5\u001b[0m df \u001b[38;5;241m=\u001b[39m load_data(file_path, is_geospatial)\n\u001b[0;32m      6\u001b[0m inspect_data(df)\n\u001b[0;32m      7\u001b[0m df \u001b[38;5;241m=\u001b[39m handle_missing_values(df, method\u001b[38;5;241m=\u001b[39m\u001b[38;5;124m'\u001b[39m\u001b[38;5;124mffill\u001b[39m\u001b[38;5;124m'\u001b[39m)\n",
      "\u001b[1;31mTypeError\u001b[0m: load_data() takes 1 positional argument but 2 were given"
     ]
    }
   ],
   "source": [
    "if __name__ == \"__main__\":\n",
    "    file_path = \"your_dataset.csv\"\n",
    "    is_geospatial = False\n",
    "    \n",
    "    df = load_data(file_path, is_geospatial)\n",
    "    inspect_data(df)\n",
    "    df = handle_missing_values(df, method='ffill')\n",
    "    df = remove_duplicates(df)\n",
    "    df = convert_data_types(df, date_columns=['date_column'], category_columns=['category_column'])\n",
    "    df = create_features(df)\n",
    "    df = normalize_data(df, columns=['numeric_column'])\n",
    "    \n",
    "    if is_geospatial:\n",
    "        df = clean_geospatial_data(df)\n",
    "    \n",
    "    save_data(df, \"cleaned_data.csv\", is_geospatial)\n",
    "    print(\"Data cleaning complete and saved.\")"
   ]
  }
 ],
 "metadata": {
  "kernelspec": {
   "display_name": "base",
   "language": "python",
   "name": "python3"
  },
  "language_info": {
   "codemirror_mode": {
    "name": "ipython",
    "version": 3
   },
   "file_extension": ".py",
   "mimetype": "text/x-python",
   "name": "python",
   "nbconvert_exporter": "python",
   "pygments_lexer": "ipython3",
   "version": "3.12.7"
  }
 },
 "nbformat": 4,
 "nbformat_minor": 5
}
