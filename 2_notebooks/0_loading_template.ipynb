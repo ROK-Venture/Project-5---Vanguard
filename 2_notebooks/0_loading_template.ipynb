{
 "cells": [
  {
   "cell_type": "code",
   "execution_count": null,
   "metadata": {},
   "outputs": [],
   "source": [
    "import pandas as pd\n",
    "import matplotlib.pyplot as plt\n",
    "import seaborn as sns\n",
    "\n",
    "df_final_demo = pd.read_csv('../1_data/df_final_demo.txt')\n",
    "df_final_experiment_clients = pd.read_csv('../1_data/df_final_experiment_clients.txt')\n",
    "df_final_web_data_pt_1 = pd.read_csv('../1_data/df_final_web_data_pt_1.txt')\n",
    "df_final_web_data_pt_2 = pd.read_csv('../1_data/df_final_web_data_pt_2.txt')"
   ]
  }
 ],
 "metadata": {
  "language_info": {
   "name": "python"
  }
 },
 "nbformat": 4,
 "nbformat_minor": 2
}
