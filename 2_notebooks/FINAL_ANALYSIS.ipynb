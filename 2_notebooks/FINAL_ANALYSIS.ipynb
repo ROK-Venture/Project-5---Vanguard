{
 "cells": [
  {
   "cell_type": "code",
   "execution_count": 2,
   "metadata": {},
   "outputs": [
    {
     "name": "stdout",
     "output_type": "stream",
     "text": [
      "Dropped 10764 duplicate rows from df_web.\n",
      "Dropped 0 rows with missing values from df_web.\n",
      "Final rows in df_time: 744641\n",
      "Cleaned df_time:\n",
      "        client_id             visitor_id                      visit_id  \\\n",
      "108614    3561384   451664975_1722933822  100012776_37918976071_457913   \n",
      "108613    3561384   451664975_1722933822  100012776_37918976071_457913   \n",
      "447951    9056452  306992881_89423906595     1000165_4190026492_760066   \n",
      "447950    9056452  306992881_89423906595     1000165_4190026492_760066   \n",
      "447949    9056452  306992881_89423906595     1000165_4190026492_760066   \n",
      "\n",
      "       process_step           date_time  \n",
      "108614       step_4 2017-04-26 13:22:17  \n",
      "108613       step_4 2017-04-26 13:23:09  \n",
      "447951       step_0 2017-06-04 01:07:29  \n",
      "447950       step_1 2017-06-04 01:07:32  \n",
      "447949       step_2 2017-06-04 01:07:56  \n"
     ]
    }
   ],
   "source": [
    "import pandas as pd\n",
    "\n",
    "# Load the data\n",
    "df_final_web_data_pt_1 = pd.read_csv('../1_data/df_final_web_data_pt_1.txt')\n",
    "df_final_web_data_pt_2 = pd.read_csv('../1_data/df_final_web_data_pt_2.txt')\n",
    "df_final_experiment_clients = pd.read_csv('../1_data/df_final_experiment_clients.txt')\n",
    "\n",
    "# Merge web data\n",
    "df_web_cleaned = pd.concat([df_final_web_data_pt_1, df_final_web_data_pt_2], ignore_index=True)\n",
    "\n",
    "\n",
    "# Step 1: Remove exact duplicates based on 'visit_id', 'process_step', and 'date_time'\n",
    "duplicates_before = df_web_cleaned.shape[0]\n",
    "df_web_cleaned = df_web_cleaned.drop_duplicates(subset=['visit_id', 'process_step', 'date_time'], keep='first')  # Remove exact duplicates\n",
    "duplicates_after = df_web_cleaned.shape[0]\n",
    "print(f\"Dropped {duplicates_before - duplicates_after} duplicate rows from df_web.\")\n",
    "\n",
    "# Step 2: Handle missing values in essential columns ('client_id', 'visit_id', and 'process_step')\n",
    "missing_values_before = df_web_cleaned.shape[0]\n",
    "df_web_cleaned = df_web_cleaned.dropna(subset=['client_id', 'visit_id', 'process_step'])\n",
    "missing_values_after = df_web_cleaned.shape[0]\n",
    "print(f\"Dropped {missing_values_before - missing_values_after} rows with missing values from df_web.\")\n",
    "\n",
    "# Step 3: Replace 'confirm' and 'start' with 'step_4' and 'step_0' for process_step\n",
    "df_web_cleaned['process_step'] = df_web_cleaned['process_step'].replace('confirm', 'step_4')\n",
    "df_web_cleaned['process_step'] = df_web_cleaned['process_step'].replace('start', 'step_0')\n",
    "\n",
    "# Step 4: Convert 'date_time' to datetime format\n",
    "df_web_cleaned['date_time'] = pd.to_datetime(df_web_cleaned['date_time'])\n",
    "\n",
    "# Step 5: Sort data by 'visit_id', 'process_step', and 'date_time'\n",
    "df_time = df_web_cleaned.sort_values(by=['visit_id', 'process_step', 'date_time'])\n",
    "\n",
    "# Print the number of rows after cleaning\n",
    "print(f\"Final rows in df_time: {df_time.shape[0]}\")\n",
    "print(\"Cleaned df_time:\")\n",
    "print(df_time.head())\n",
    "\n",
    "\n",
    "\n"
   ]
  },
  {
   "cell_type": "code",
   "execution_count": 3,
   "metadata": {},
   "outputs": [
    {
     "name": "stdout",
     "output_type": "stream",
     "text": [
      "Number of rows in df_time after filtering: 317235\n",
      "   client_id            visitor_id                      visit_id process_step  \\\n",
      "0    9988021  580560515_7732621733  781255054_21935453173_531117       step_3   \n",
      "1    9988021  580560515_7732621733  781255054_21935453173_531117       step_2   \n",
      "2    9988021  580560515_7732621733  781255054_21935453173_531117       step_3   \n",
      "3    9988021  580560515_7732621733  781255054_21935453173_531117       step_2   \n",
      "4    9988021  580560515_7732621733  781255054_21935453173_531117       step_3   \n",
      "\n",
      "            date_time Variation  \n",
      "0 2017-04-17 15:27:07      Test  \n",
      "1 2017-04-17 15:26:51      Test  \n",
      "2 2017-04-17 15:19:22      Test  \n",
      "3 2017-04-17 15:19:13      Test  \n",
      "4 2017-04-17 15:18:04      Test  \n"
     ]
    }
   ],
   "source": [
    "# Merge df_web_cleaned with df_final_experiment_clients on 'client_id' to include 'Variation'\n",
    "df_time = df_web_cleaned.merge(df_final_experiment_clients[['client_id', 'Variation']], on='client_id', how='left')\n",
    "\n",
    "# Drop rows where 'Variation' is neither 'Test' nor 'Control'\n",
    "df_time = df_time[df_time['Variation'].isin(['Test', 'Control'])]\n",
    "\n",
    "# Check the result\n",
    "print(f\"Number of rows in df_time after filtering: {df_time.shape[0]}\")\n",
    "print(df_time.head())\n"
   ]
  },
  {
   "cell_type": "markdown",
   "metadata": {},
   "source": [
    "### KPI 1: Completion Rate (reaching step_4)"
   ]
  },
  {
   "cell_type": "markdown",
   "metadata": {},
   "source": [
    "##### Selecting users that went through at least one step before confirmation ##### "
   ]
  },
  {
   "cell_type": "code",
   "execution_count": 4,
   "metadata": {},
   "outputs": [
    {
     "name": "stdout",
     "output_type": "stream",
     "text": [
      "Excluded 4120 visits that only had step_4.\n",
      "Remaining visits: 65085\n"
     ]
    }
   ],
   "source": [
    "# Step 1: Identify visits that only show step_4\n",
    "step_counts = df_time.groupby('visit_id')['process_step'].nunique().reset_index(name='unique_steps')\n",
    "step_4_only_visits = df_time[df_time['process_step'] == 'step_4']['visit_id'].unique()\n",
    "step_4_only = step_counts[(step_counts['unique_steps'] == 1) & (step_counts['visit_id'].isin(step_4_only_visits))]['visit_id']\n",
    "\n",
    "# Step 2: Exclude them from df_time\n",
    "df_time_filtered = df_time[~df_time['visit_id'].isin(step_4_only)]\n",
    "\n",
    "print(f\"Excluded {len(step_4_only)} visits that only had step_4.\")\n",
    "print(f\"Remaining visits: {df_time_filtered['visit_id'].nunique()}\")\n"
   ]
  },
  {
   "cell_type": "code",
   "execution_count": 9,
   "metadata": {},
   "outputs": [
    {
     "data": {
      "text/html": [
       "<div>\n",
       "<style scoped>\n",
       "    .dataframe tbody tr th:only-of-type {\n",
       "        vertical-align: middle;\n",
       "    }\n",
       "\n",
       "    .dataframe tbody tr th {\n",
       "        vertical-align: top;\n",
       "    }\n",
       "\n",
       "    .dataframe thead th {\n",
       "        text-align: right;\n",
       "    }\n",
       "</style>\n",
       "<table border=\"1\" class=\"dataframe\">\n",
       "  <thead>\n",
       "    <tr style=\"text-align: right;\">\n",
       "      <th></th>\n",
       "      <th>Variation</th>\n",
       "      <th>completions</th>\n",
       "      <th>total_visits</th>\n",
       "      <th>completion_rate</th>\n",
       "    </tr>\n",
       "  </thead>\n",
       "  <tbody>\n",
       "    <tr>\n",
       "      <th>0</th>\n",
       "      <td>Control</td>\n",
       "      <td>15296</td>\n",
       "      <td>31428</td>\n",
       "      <td>48.669976</td>\n",
       "    </tr>\n",
       "    <tr>\n",
       "      <th>1</th>\n",
       "      <td>Test</td>\n",
       "      <td>18376</td>\n",
       "      <td>33776</td>\n",
       "      <td>54.405495</td>\n",
       "    </tr>\n",
       "  </tbody>\n",
       "</table>\n",
       "</div>"
      ],
      "text/plain": [
       "  Variation  completions  total_visits  completion_rate\n",
       "0   Control        15296         31428        48.669976\n",
       "1      Test        18376         33776        54.405495"
      ]
     },
     "execution_count": 9,
     "metadata": {},
     "output_type": "execute_result"
    }
   ],
   "source": [
    "# Step 3: Identify which visits reached step_4 (confirmation)\n",
    "completed_visits = df_time_filtered[df_time_filtered['process_step'] == 'step_4']['visit_id'].unique()\n",
    "\n",
    "# Step 4: Get all remaining visits by Variation\n",
    "visit_variations = df_time_filtered[['visit_id', 'Variation']].drop_duplicates()\n",
    "\n",
    "# Step 5: Mark visits as completed or not\n",
    "visit_variations['completed'] = visit_variations['visit_id'].isin(completed_visits)\n",
    "\n",
    "# Step 6: Completion rate by Variation\n",
    "completion_summary = visit_variations.groupby('Variation')['completed'].agg(['sum', 'count'])\n",
    "completion_summary['completion_rate'] = (completion_summary['sum'] / completion_summary['count']) * 100\n",
    "completion_summary = completion_summary.rename(columns={'sum': 'completions', 'count': 'total_visits'})\n",
    "completion_summary = completion_summary.reset_index()\n",
    "\n",
    "completion_summary\n"
   ]
  },
  {
   "cell_type": "code",
   "execution_count": 28,
   "metadata": {},
   "outputs": [],
   "source": [
    "completion_summary.to_csv(r'C:\\Users\\manoe.MC_ASUS\\Documents\\IRON HACK BOOTCAMP\\DAFT_Feb 2025\\projects\\Project 5\\Project-5---Vanguard\\1_data\\tableau\\completion_rate_summary.csv', index=False)\n",
    "\n"
   ]
  },
  {
   "cell_type": "markdown",
   "metadata": {},
   "source": [
    "### HYPOTHESIS TEST: COMPLETION RATE KPI"
   ]
  },
  {
   "cell_type": "code",
   "execution_count": 16,
   "metadata": {},
   "outputs": [
    {
     "name": "stdout",
     "output_type": "stream",
     "text": [
      "Z-statistic: 14.64\n",
      "P-value: 7.35e-49\n"
     ]
    }
   ],
   "source": [
    "from statsmodels.stats.proportion import proportions_ztest\n",
    "\n",
    "# Successes \n",
    "successes = [18376, 15296]\n",
    "totals = [33776, 31428]\n",
    "\n",
    "# z-test\n",
    "z_stat, p_val = proportions_ztest(count=successes, nobs=totals, alternative='larger')\n",
    "\n",
    "\n",
    "formatted_p = f\"{p_val:.2e}\"  # or use .3e for 3 decimals\n",
    "formatted_z = f\"{z_stat:.2f}\"\n",
    "\n",
    "print(f\"Z-statistic: {formatted_z}\")\n",
    "print(f\"P-value: {formatted_p}\")\n",
    "\n"
   ]
  },
  {
   "cell_type": "markdown",
   "metadata": {},
   "source": [
    "##### CONCLUSION: \n",
    "\n",
    "Z-statistic: 14.6441\n",
    "\n",
    "P-value: virtually 0 (7.35e-49)\n",
    "\n",
    "Completion rate difference:\n",
    "\n",
    "Control: 48.67%\n",
    "\n",
    "Test: 54.41%\n",
    "\n",
    "Difference: ~5.74 percentage points \n",
    "\n",
    "The new UI led to a statistically significant increase in completion rate of ~5.7 percentage points, suggesting the Test version performs better.m"
   ]
  },
  {
   "cell_type": "markdown",
   "metadata": {},
   "source": [
    "### KPI 2: Average time per step"
   ]
  },
  {
   "cell_type": "code",
   "execution_count": 17,
   "metadata": {},
   "outputs": [],
   "source": [
    "df_time = df_time.sort_values(by=['visit_id', 'date_time'])\n",
    "\n",
    "df_time['diff_time'] = df_time.groupby('visit_id')['date_time'].diff()\n"
   ]
  },
  {
   "cell_type": "code",
   "execution_count": 18,
   "metadata": {},
   "outputs": [
    {
     "name": "stdout",
     "output_type": "stream",
     "text": [
      "  Variation process_step   formatted_time\n",
      "0   Control       step_0  0 days 00:03:19\n",
      "1   Control       step_1  0 days 00:00:56\n",
      "2   Control       step_2  0 days 00:00:38\n",
      "3   Control       step_3  0 days 00:01:33\n",
      "4   Control       step_4  0 days 00:02:09\n",
      "5      Test       step_0  0 days 00:02:36\n",
      "6      Test       step_1  0 days 00:00:52\n",
      "7      Test       step_2  0 days 00:00:48\n",
      "8      Test       step_3  0 days 00:01:37\n",
      "9      Test       step_4  0 days 00:02:07\n"
     ]
    }
   ],
   "source": [
    "# clean the time column\n",
    "df_time = df_time[df_time['diff_time'].notna()]\n",
    "df_time = df_time[df_time['diff_time'] >= pd.Timedelta(0)]\n",
    "\n",
    "# Filter to only test and control clients\n",
    "df_ab_time = df_time[df_time['Variation'].isin(['Test', 'Control'])]\n",
    "\n",
    "# Compute mean time per step for each Variation\n",
    "avg_time_per_step = df_ab_time.groupby(['Variation', 'process_step'])['diff_time'].mean().reset_index()\n",
    "\n",
    "# Optional: Format time nicely\n",
    "avg_time_per_step['formatted_time'] = avg_time_per_step['diff_time'].apply(lambda x: str(x).split('.')[0])\n",
    "\n",
    "# Display result\n",
    "print(avg_time_per_step[['Variation', 'process_step', 'formatted_time']])\n"
   ]
  },
  {
   "cell_type": "code",
   "execution_count": 19,
   "metadata": {},
   "outputs": [
    {
     "name": "stdout",
     "output_type": "stream",
     "text": [
      "Variation             Control             Test\n",
      "process_step                                  \n",
      "step_0        0 days 00:03:19  0 days 00:02:36\n",
      "step_1        0 days 00:00:56  0 days 00:00:52\n",
      "step_2        0 days 00:00:38  0 days 00:00:48\n",
      "step_3        0 days 00:01:33  0 days 00:01:37\n",
      "step_4        0 days 00:02:09  0 days 00:02:07\n"
     ]
    }
   ],
   "source": [
    "# Pivot the formatted time for a cleaner comparison\n",
    "pivot_avg_time = avg_time_per_step.pivot(index='process_step', columns='Variation', values='formatted_time')\n",
    "\n",
    "# Reorder the steps (optional)\n",
    "step_order = ['step_0', 'step_1', 'step_2', 'step_3', 'step_4']\n",
    "pivot_avg_time = pivot_avg_time.reindex(step_order)\n",
    "\n",
    "# Display it\n",
    "print(pivot_avg_time)\n"
   ]
  },
  {
   "cell_type": "markdown",
   "metadata": {},
   "source": [
    "##### DROP REPEATED STEPS FOR SAME VISIT ID:"
   ]
  },
  {
   "cell_type": "code",
   "execution_count": 21,
   "metadata": {},
   "outputs": [],
   "source": [
    "# Step 1: Sort and keep only first appearance of each step per visit\n",
    "df_first_occurrence = df_ab_time.sort_values(by=['visit_id', 'process_step', 'date_time']) \\\n",
    "    .drop_duplicates(subset=['visit_id', 'process_step'], keep='first')\n",
    "\n",
    "# Step 2: Convert to seconds\n",
    "df_first_occurrence['diff_time_seconds'] = df_first_occurrence['diff_time'].dt.total_seconds()\n",
    "\n"
   ]
  },
  {
   "cell_type": "code",
   "execution_count": 22,
   "metadata": {},
   "outputs": [],
   "source": [
    "df_first_occurrence['diff_time_seconds'] = df_first_occurrence['diff_time'].dt.total_seconds()\n"
   ]
  },
  {
   "cell_type": "code",
   "execution_count": 23,
   "metadata": {},
   "outputs": [
    {
     "data": {
      "text/html": [
       "<div>\n",
       "<style scoped>\n",
       "    .dataframe tbody tr th:only-of-type {\n",
       "        vertical-align: middle;\n",
       "    }\n",
       "\n",
       "    .dataframe tbody tr th {\n",
       "        vertical-align: top;\n",
       "    }\n",
       "\n",
       "    .dataframe thead th {\n",
       "        text-align: right;\n",
       "    }\n",
       "</style>\n",
       "<table border=\"1\" class=\"dataframe\">\n",
       "  <thead>\n",
       "    <tr style=\"text-align: right;\">\n",
       "      <th>Variation</th>\n",
       "      <th>process_step</th>\n",
       "      <th>Control</th>\n",
       "      <th>Test</th>\n",
       "    </tr>\n",
       "  </thead>\n",
       "  <tbody>\n",
       "    <tr>\n",
       "      <th>0</th>\n",
       "      <td>step_0</td>\n",
       "      <td>238.406567</td>\n",
       "      <td>153.982695</td>\n",
       "    </tr>\n",
       "    <tr>\n",
       "      <th>1</th>\n",
       "      <td>step_1</td>\n",
       "      <td>57.801654</td>\n",
       "      <td>47.429071</td>\n",
       "    </tr>\n",
       "    <tr>\n",
       "      <th>2</th>\n",
       "      <td>step_2</td>\n",
       "      <td>35.930871</td>\n",
       "      <td>38.902694</td>\n",
       "    </tr>\n",
       "    <tr>\n",
       "      <th>3</th>\n",
       "      <td>step_3</td>\n",
       "      <td>99.441310</td>\n",
       "      <td>92.975367</td>\n",
       "    </tr>\n",
       "    <tr>\n",
       "      <th>4</th>\n",
       "      <td>step_4</td>\n",
       "      <td>128.803766</td>\n",
       "      <td>106.547434</td>\n",
       "    </tr>\n",
       "  </tbody>\n",
       "</table>\n",
       "</div>"
      ],
      "text/plain": [
       "Variation process_step     Control        Test\n",
       "0               step_0  238.406567  153.982695\n",
       "1               step_1   57.801654   47.429071\n",
       "2               step_2   35.930871   38.902694\n",
       "3               step_3   99.441310   92.975367\n",
       "4               step_4  128.803766  106.547434"
      ]
     },
     "execution_count": 23,
     "metadata": {},
     "output_type": "execute_result"
    }
   ],
   "source": [
    "# Step 1: Sort and keep only first appearance of each step per visit\n",
    "df_first_occurrence = df_time.sort_values(by=['visit_id', 'process_step', 'date_time']) \\\n",
    "    .drop_duplicates(subset=['visit_id', 'process_step'], keep='first')\n",
    "\n",
    "# Step 2: Convert timedelta to seconds\n",
    "df_first_occurrence['diff_time_seconds'] = df_first_occurrence['diff_time'].dt.total_seconds()\n",
    "\n",
    "# Step 3: Group and calculate average time per step\n",
    "avg_time_first_only = df_first_occurrence.groupby(['process_step', 'Variation'])['diff_time_seconds'].mean().reset_index()\n",
    "\n",
    "# Step 4: Pivot for comparison\n",
    "pivot_first_only = avg_time_first_only.pivot(index='process_step', columns='Variation', values='diff_time_seconds').reset_index()\n",
    "\n",
    "# Step 5: Export if needed\n",
    "pivot_first_only.to_csv(\"avg_time_per_step_first_only.csv\", index=False)\n",
    "\n",
    "# Show it\n",
    "pivot_first_only\n",
    "\n"
   ]
  },
  {
   "cell_type": "code",
   "execution_count": 30,
   "metadata": {},
   "outputs": [],
   "source": [
    "# Step 5: Melt to long format and export\n",
    "avg_time_melted = avg_time_first_only  # Already in long format\n",
    "\n",
    "avg_time_melted.to_csv(\n",
    "    r'C:\\Users\\manoe.MC_ASUS\\Documents\\IRON HACK BOOTCAMP\\DAFT_Feb 2025\\projects\\Project 5\\Project-5---Vanguard\\1_data\\tableau\\avg_time_per_step.csv',\n",
    "    index=False\n",
    ")\n"
   ]
  },
  {
   "cell_type": "markdown",
   "metadata": {},
   "source": [
    "### HYPOTHESIS TEST AVG TIME PER STEP KPI:"
   ]
  },
  {
   "cell_type": "code",
   "execution_count": 26,
   "metadata": {},
   "outputs": [
    {
     "data": {
      "text/html": [
       "<div>\n",
       "<style scoped>\n",
       "    .dataframe tbody tr th:only-of-type {\n",
       "        vertical-align: middle;\n",
       "    }\n",
       "\n",
       "    .dataframe tbody tr th {\n",
       "        vertical-align: top;\n",
       "    }\n",
       "\n",
       "    .dataframe thead th {\n",
       "        text-align: right;\n",
       "    }\n",
       "</style>\n",
       "<table border=\"1\" class=\"dataframe\">\n",
       "  <thead>\n",
       "    <tr style=\"text-align: right;\">\n",
       "      <th></th>\n",
       "      <th>step</th>\n",
       "      <th>control_variance</th>\n",
       "      <th>test_variance</th>\n",
       "      <th>control_std</th>\n",
       "      <th>test_std</th>\n",
       "    </tr>\n",
       "  </thead>\n",
       "  <tbody>\n",
       "    <tr>\n",
       "      <th>0</th>\n",
       "      <td>step_0</td>\n",
       "      <td>201792.997403</td>\n",
       "      <td>96188.129064</td>\n",
       "      <td>449.213755</td>\n",
       "      <td>310.142111</td>\n",
       "    </tr>\n",
       "    <tr>\n",
       "      <th>1</th>\n",
       "      <td>step_1</td>\n",
       "      <td>21726.802624</td>\n",
       "      <td>13576.579812</td>\n",
       "      <td>147.400145</td>\n",
       "      <td>116.518581</td>\n",
       "    </tr>\n",
       "    <tr>\n",
       "      <th>2</th>\n",
       "      <td>step_2</td>\n",
       "      <td>3041.074259</td>\n",
       "      <td>3391.201605</td>\n",
       "      <td>55.145936</td>\n",
       "      <td>58.234024</td>\n",
       "    </tr>\n",
       "    <tr>\n",
       "      <th>3</th>\n",
       "      <td>step_3</td>\n",
       "      <td>8333.317256</td>\n",
       "      <td>7763.830349</td>\n",
       "      <td>91.287005</td>\n",
       "      <td>88.112600</td>\n",
       "    </tr>\n",
       "    <tr>\n",
       "      <th>4</th>\n",
       "      <td>step_4</td>\n",
       "      <td>26231.803964</td>\n",
       "      <td>27007.777432</td>\n",
       "      <td>161.962354</td>\n",
       "      <td>164.340432</td>\n",
       "    </tr>\n",
       "  </tbody>\n",
       "</table>\n",
       "</div>"
      ],
      "text/plain": [
       "     step  control_variance  test_variance  control_std    test_std\n",
       "0  step_0     201792.997403   96188.129064   449.213755  310.142111\n",
       "1  step_1      21726.802624   13576.579812   147.400145  116.518581\n",
       "2  step_2       3041.074259    3391.201605    55.145936   58.234024\n",
       "3  step_3       8333.317256    7763.830349    91.287005   88.112600\n",
       "4  step_4      26231.803964   27007.777432   161.962354  164.340432"
      ]
     },
     "execution_count": 26,
     "metadata": {},
     "output_type": "execute_result"
    }
   ],
   "source": [
    "for step in df_first_occurrence['process_step'].unique():\n",
    "    step_data = df_first_occurrence[df_first_occurrence['process_step'] == step]\n",
    "\n",
    "    control = step_data[step_data['Variation'] == 'Control']['diff_time_seconds']\n",
    "    test = step_data[step_data['Variation'] == 'Test']['diff_time_seconds']\n",
    "\n",
    "    variance_results.append({\n",
    "        'step': step,\n",
    "        'control_variance': control.var(),\n",
    "        'test_variance': test.var(),\n",
    "        'control_std': control.std(),\n",
    "        'test_std': test.std()\n",
    "    })\n",
    "\n",
    "df_variance = pd.DataFrame(variance_results).sort_values('step')\n",
    "df_variance\n"
   ]
  },
  {
   "cell_type": "code",
   "execution_count": 27,
   "metadata": {},
   "outputs": [
    {
     "data": {
      "text/html": [
       "<div>\n",
       "<style scoped>\n",
       "    .dataframe tbody tr th:only-of-type {\n",
       "        vertical-align: middle;\n",
       "    }\n",
       "\n",
       "    .dataframe tbody tr th {\n",
       "        vertical-align: top;\n",
       "    }\n",
       "\n",
       "    .dataframe thead th {\n",
       "        text-align: right;\n",
       "    }\n",
       "</style>\n",
       "<table border=\"1\" class=\"dataframe\">\n",
       "  <thead>\n",
       "    <tr style=\"text-align: right;\">\n",
       "      <th></th>\n",
       "      <th>step</th>\n",
       "      <th>t_statistic</th>\n",
       "      <th>p_value</th>\n",
       "      <th>mean_control</th>\n",
       "      <th>mean_test</th>\n",
       "    </tr>\n",
       "  </thead>\n",
       "  <tbody>\n",
       "    <tr>\n",
       "      <th>0</th>\n",
       "      <td>step_0</td>\n",
       "      <td>12.363419</td>\n",
       "      <td>8.389600e-35</td>\n",
       "      <td>238.406567</td>\n",
       "      <td>153.982695</td>\n",
       "    </tr>\n",
       "    <tr>\n",
       "      <th>1</th>\n",
       "      <td>step_1</td>\n",
       "      <td>4.590385</td>\n",
       "      <td>4.475808e-06</td>\n",
       "      <td>57.801654</td>\n",
       "      <td>47.429071</td>\n",
       "    </tr>\n",
       "    <tr>\n",
       "      <th>2</th>\n",
       "      <td>step_2</td>\n",
       "      <td>-5.478875</td>\n",
       "      <td>4.304317e-08</td>\n",
       "      <td>35.930871</td>\n",
       "      <td>38.902694</td>\n",
       "    </tr>\n",
       "    <tr>\n",
       "      <th>3</th>\n",
       "      <td>step_3</td>\n",
       "      <td>7.145478</td>\n",
       "      <td>9.129944e-13</td>\n",
       "      <td>99.441310</td>\n",
       "      <td>92.975367</td>\n",
       "    </tr>\n",
       "    <tr>\n",
       "      <th>4</th>\n",
       "      <td>step_4</td>\n",
       "      <td>12.427284</td>\n",
       "      <td>2.237422e-35</td>\n",
       "      <td>128.803766</td>\n",
       "      <td>106.547434</td>\n",
       "    </tr>\n",
       "  </tbody>\n",
       "</table>\n",
       "</div>"
      ],
      "text/plain": [
       "     step  t_statistic       p_value  mean_control   mean_test\n",
       "0  step_0    12.363419  8.389600e-35    238.406567  153.982695\n",
       "1  step_1     4.590385  4.475808e-06     57.801654   47.429071\n",
       "2  step_2    -5.478875  4.304317e-08     35.930871   38.902694\n",
       "3  step_3     7.145478  9.129944e-13     99.441310   92.975367\n",
       "4  step_4    12.427284  2.237422e-35    128.803766  106.547434"
      ]
     },
     "execution_count": 27,
     "metadata": {},
     "output_type": "execute_result"
    }
   ],
   "source": [
    "from scipy.stats import ttest_ind\n",
    "\n",
    "results = []\n",
    "\n",
    "for step in df_first_occurrence['process_step'].unique():\n",
    "    step_data = df_first_occurrence[df_first_occurrence['process_step'] == step]\n",
    "    \n",
    "    control = step_data[step_data['Variation'] == 'Control']['diff_time_seconds']\n",
    "    test = step_data[step_data['Variation'] == 'Test']['diff_time_seconds']\n",
    "    \n",
    "    # Welch’s t-test (unequal variance)\n",
    "    t_stat, p_val = ttest_ind(control, test, equal_var=False)\n",
    "    \n",
    "    results.append({\n",
    "        'step': step,\n",
    "        't_statistic': t_stat,\n",
    "        'p_value': p_val,\n",
    "        'mean_control': control.mean(),\n",
    "        'mean_test': test.mean()\n",
    "    })\n",
    "\n",
    "df_results = pd.DataFrame(results).sort_values('step')\n",
    "df_results\n"
   ]
  },
  {
   "cell_type": "markdown",
   "metadata": {},
   "source": [
    "##### CONCLUSION: All p-values are below 0.00001, meaning we reject the null hypothesis in every case.\n",
    "\n"
   ]
  },
  {
   "cell_type": "markdown",
   "metadata": {},
   "source": [
    "### KPI 3 Error rate per group"
   ]
  },
  {
   "cell_type": "code",
   "execution_count": 32,
   "metadata": {},
   "outputs": [
    {
     "name": "stdout",
     "output_type": "stream",
     "text": [
      "Error Rate per Variation:\n",
      "  Variation formatted\n",
      "0   Control    37.78%\n",
      "1      Test    45.26%\n"
     ]
    }
   ],
   "source": [
    "# Step 1: Filter to Test and Control clients\n",
    "df_ab = df_web_cleaned.merge(\n",
    "    df_final_experiment_clients[['client_id', 'Variation']],\n",
    "    on='client_id',\n",
    "    how='inner'\n",
    ")\n",
    "\n",
    "# Step 2: Count how many times each step appears per visit\n",
    "step_counts = df_ab.groupby(['visit_id', 'process_step']).size().reset_index(name='count')\n",
    "\n",
    "# Step 3: Identify visits where any step appears more than once\n",
    "repeated_steps = step_counts[step_counts['count'] > 1]['visit_id'].unique()\n",
    "\n",
    "# Step 4: Flag those visits as errors\n",
    "df_ab_visits = df_ab[['visit_id', 'Variation']].drop_duplicates()\n",
    "df_ab_visits['error'] = df_ab_visits['visit_id'].isin(repeated_steps)\n",
    "\n",
    "# Step 5: Compute error rate per Variation\n",
    "error_rate = df_ab_visits.groupby('Variation')['error'].mean().reset_index()\n",
    "error_rate['formatted'] = error_rate['error'].apply(lambda x: f\"{x:.2%}\")\n",
    "\n",
    "# Show results\n",
    "print(\"Error Rate per Variation:\")\n",
    "print(error_rate[['Variation', 'formatted']])\n"
   ]
  },
  {
   "cell_type": "code",
   "execution_count": 33,
   "metadata": {},
   "outputs": [],
   "source": [
    "error_rate.to_csv(\n",
    "    r'C:\\Users\\manoe.MC_ASUS\\Documents\\IRON HACK BOOTCAMP\\DAFT_Feb 2025\\projects\\Project 5\\Project-5---Vanguard\\1_data\\tableau\\error_rate_overall.csv',\n",
    "    index=False\n",
    ")\n",
    "\n"
   ]
  },
  {
   "cell_type": "code",
   "execution_count": null,
   "metadata": {},
   "outputs": [],
   "source": []
  }
 ],
 "metadata": {
  "kernelspec": {
   "display_name": "base",
   "language": "python",
   "name": "python3"
  },
  "language_info": {
   "codemirror_mode": {
    "name": "ipython",
    "version": 3
   },
   "file_extension": ".py",
   "mimetype": "text/x-python",
   "name": "python",
   "nbconvert_exporter": "python",
   "pygments_lexer": "ipython3",
   "version": "3.12.7"
  }
 },
 "nbformat": 4,
 "nbformat_minor": 2
}
